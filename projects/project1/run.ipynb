{
 "cells": [
  {
   "cell_type": "code",
   "execution_count": 6,
   "metadata": {},
   "outputs": [],
   "source": [
    "# Useful starting lines\n",
    "%matplotlib inline\n",
    "import numpy as np\n",
    "import pandas as pd\n",
    "import matplotlib.pyplot as plt\n",
    "\n",
    "%load_ext autoreload\n",
    "%autoreload 2"
   ]
  },
  {
   "cell_type": "code",
   "execution_count": 7,
   "metadata": {},
   "outputs": [],
   "source": [
    "import datetime\n",
    "from helpers import *\n",
    "from costs import *\n",
    "from plots import *\n",
    "from gradient_descent import *\n",
    "from stochastic_gradient_descent import *\n",
    "from preprocessing import *\n",
    "from preprocessing_naive import *\n",
    "\n",
    "features, x_train, x_test, y_train, train_ids, test_ids = load_csv_data(\"data/dataset/dataset_to_release/\")"
   ]
  },
  {
   "cell_type": "code",
   "execution_count": null,
   "metadata": {},
   "outputs": [],
   "source": [
    "from preprocessing import *\n",
    "from helpers import *\n",
    "new_x_train, mean, std = preprocessing_dataset(x_test)"
   ]
  },
  {
   "cell_type": "code",
   "execution_count": null,
   "metadata": {},
   "outputs": [],
   "source": [
    "# Define the parameters of the algorithm.\n",
    "max_iters = 50\n",
    "gamma = 0.2\n",
    "\n",
    "# Initialization\n",
    "w_initial = np.zeros((new_x_train.shape[1],))\n",
    "\n",
    "# Start gradient descent.\n",
    "start_time = datetime.datetime.now()\n",
    "gd_ws, gd_losses = mean_squared_error_gd(y_train, new_x_train, w_initial, max_iters, gamma)\n",
    "end_time = datetime.datetime.now()\n",
    "\n",
    "# Print result\n",
    "exection_time = (end_time - start_time).total_seconds()\n",
    "print(\"Gradient Descent: execution time={t:.3f} seconds\".format(t=exection_time))\n",
    "print(\"Gradient Descent: loss={l}\".format(l=gd_losses))\n",
    "print(\"Gradient Descent: w={w}\".format(w=gd_ws))"
   ]
  },
  {
   "cell_type": "code",
   "execution_count": null,
   "metadata": {},
   "outputs": [],
   "source": [
    "# Define the parameters of the algorithm.\n",
    "max_iters = 50\n",
    "gamma = 0.2\n",
    "\n",
    "# Initialization\n",
    "w_initial = np.zeros((new_x_train.shape[1],))\n",
    "\n",
    "# Start gradient descent.\n",
    "start_time = datetime.datetime.now()\n",
    "gd_ws, gd_losses = mean_squared_error_gd(y_train, new_x_train)\n",
    "end_time = datetime.datetime.now()\n",
    "\n",
    "# Print result\n",
    "exection_time = (end_time - start_time).total_seconds()\n",
    "print(\"Gradient Descent: execution time={t:.3f} seconds\".format(t=exection_time))\n",
    "print(\"Gradient Descent: loss={l}\".format(l=gd_losses))\n",
    "print(\"Gradient Descent: w={w}\".format(w=gd_ws))"
   ]
  },
  {
   "cell_type": "code",
   "execution_count": 4,
   "metadata": {},
   "outputs": [
    {
     "name": "stdout",
     "output_type": "stream",
     "text": [
      "124\n",
      "(109379, 124)\n"
     ]
    },
    {
     "ename": "NameError",
     "evalue": "name 'gd_ws' is not defined",
     "output_type": "error",
     "traceback": [
      "\u001b[1;31m---------------------------------------------------------------------------\u001b[0m",
      "\u001b[1;31mNameError\u001b[0m                                 Traceback (most recent call last)",
      "Cell \u001b[1;32mIn[4], line 4\u001b[0m\n\u001b[0;32m      2\u001b[0m \u001b[39mfrom\u001b[39;00m \u001b[39mhelpers\u001b[39;00m \u001b[39mimport\u001b[39;00m \u001b[39m*\u001b[39m\n\u001b[0;32m      3\u001b[0m new_x_test, mean, std \u001b[39m=\u001b[39m preprocessing_dataset(x_test)\n\u001b[1;32m----> 4\u001b[0m y_pred \u001b[39m=\u001b[39m new_x_test \u001b[39m@\u001b[39m gd_ws\n\u001b[0;32m      5\u001b[0m y_pred[y_pred \u001b[39m<\u001b[39m\u001b[39m=\u001b[39m \u001b[39m0\u001b[39m] \u001b[39m=\u001b[39m \u001b[39m-\u001b[39m\u001b[39m1\u001b[39m\n\u001b[0;32m      6\u001b[0m y_pred[y_pred \u001b[39m>\u001b[39m \u001b[39m0\u001b[39m] \u001b[39m=\u001b[39m \u001b[39m1\u001b[39m\n",
      "\u001b[1;31mNameError\u001b[0m: name 'gd_ws' is not defined"
     ]
    }
   ],
   "source": [
    "\n",
    "y_pred = new_x_test @ gd_ws\n",
    "y_pred[y_pred <= 0] = -1\n",
    "y_pred[y_pred > 0] = 1\n",
    "\n",
    "create_csv_submission(test_ids, y_pred, \"data/submission_gd.csv\")"
   ]
  }
 ],
 "metadata": {
  "kernelspec": {
   "display_name": "Python 3",
   "language": "python",
   "name": "python3"
  },
  "language_info": {
   "codemirror_mode": {
    "name": "ipython",
    "version": 3
   },
   "file_extension": ".py",
   "mimetype": "text/x-python",
   "name": "python",
   "nbconvert_exporter": "python",
   "pygments_lexer": "ipython3",
   "version": "3.11.6"
  },
  "orig_nbformat": 4
 },
 "nbformat": 4,
 "nbformat_minor": 2
}
