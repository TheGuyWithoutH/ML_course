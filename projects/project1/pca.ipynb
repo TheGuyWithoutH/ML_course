{
 "cells": [
  {
   "cell_type": "code",
   "execution_count": 2,
   "metadata": {},
   "outputs": [],
   "source": [
    "import numpy as np\n",
    "import matplotlib.pyplot as plt\n",
    "\n",
    "from helpers import load_csv_data\n",
    "from preprocessing_naive import preprocessing_dataset_naive\n",
    "\n"
   ]
  },
  {
   "cell_type": "code",
   "execution_count": 3,
   "metadata": {},
   "outputs": [],
   "source": [
    "# take x_train\n",
    "_, data, _, _, _, _ = load_csv_data(\"data/dataset\")"
   ]
  },
  {
   "cell_type": "code",
   "execution_count": 72,
   "metadata": {},
   "outputs": [],
   "source": [
    "def pca(data):\n",
    "    #preprocessing\n",
    "    data,meanq,_ = preprocessing_dataset_naive(data)\n",
    "    # compute the mean of each column\n",
    "    mean = np.mean(data, axis=0)\n",
    "    mean_data = data - mean\n",
    "    # compute the covariance matrix\n",
    "    cov = np.cov(mean_data,rowvar=False)\n",
    "    cov = np.round(cov, 2)\n",
    "    \n",
    "    # compute the eigenvalues and eigenvectors\n",
    "    eig_val, eig_vec = np.linalg.eig(cov)\n",
    "    # sort the eigenvalues and eigenvectors\n",
    "    idx = np.arange(0, len(eig_val), 1)\n",
    "    idx = ([x for _, x in sorted(zip(eig_val, idx))])[::-1]\n",
    "    eig_val = eig_val[idx]\n",
    "    eig_vec = eig_vec[:, idx]\n",
    "    # compute the explained variance\n",
    "    exp_var = eig_val/np.sum(eig_val)\n",
    "    # compute the cumulative explained variance\n",
    "    cum_exp_var = np.cumsum(exp_var)\n",
    "    #get the index of the first value above 99%\n",
    "    index = np.argmax(cum_exp_var > 0.95)\n",
    "    #get the number of components\n",
    "    n_components = index+1 \n",
    "    #get the components\n",
    "    components = eig_vec[:, :n_components]\n",
    "    #transform the data\n",
    "    transformed_data = np.dot(mean_data, components)\n",
    "    return transformed_data\n"
   ]
  },
  {
   "cell_type": "code",
   "execution_count": 73,
   "metadata": {},
   "outputs": [
    {
     "name": "stdout",
     "output_type": "stream",
     "text": [
      "(328135, 321)\n",
      "(328135, 299)\n"
     ]
    }
   ],
   "source": [
    "#preprocess the data\n",
    "#preprocessed_data = preprocessing_dataset_naive(data)\n",
    "# transform the data\n",
    "transformed_data = pca(data)\n",
    "print(transformed_data.shape)\n"
   ]
  }
 ],
 "metadata": {
  "kernelspec": {
   "display_name": "Python 3",
   "language": "python",
   "name": "python3"
  },
  "language_info": {
   "codemirror_mode": {
    "name": "ipython",
    "version": 3
   },
   "file_extension": ".py",
   "mimetype": "text/x-python",
   "name": "python",
   "nbconvert_exporter": "python",
   "pygments_lexer": "ipython3",
   "version": "3.9.13"
  },
  "orig_nbformat": 4
 },
 "nbformat": 4,
 "nbformat_minor": 2
}
