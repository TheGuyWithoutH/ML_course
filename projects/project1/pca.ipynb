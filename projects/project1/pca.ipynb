{
 "cells": [
  {
   "cell_type": "code",
   "execution_count": 3,
   "metadata": {},
   "outputs": [],
   "source": [
    "import numpy as np\n",
    "import matplotlib.pyplot as plt\n",
    "\n",
    "from helpers import load_csv_data\n",
    "from preprocessing_naive import preprocessing_dataset_naive\n",
    "\n"
   ]
  },
  {
   "cell_type": "code",
   "execution_count": 4,
   "metadata": {},
   "outputs": [],
   "source": [
    "# take x_train\n",
    "_, data, _, _, _, _ = load_csv_data(\"data/dataset\")"
   ]
  },
  {
   "cell_type": "code",
   "execution_count": 39,
   "metadata": {},
   "outputs": [],
   "source": [
    "def pca(data):\n",
    "    #preprocessing\n",
    "    data,_,_ = preprocessing_dataset_naive(data)\n",
    "    print(data[0:5, 0:5])\n",
    "    # compute the mean of each column\n",
    "    mean = np.mean(data, axis=0)\n",
    "    mean_data = data - mean\n",
    "    # compute the covariance matrix\n",
    "    cov = np.cov(mean_data,rowvar=False)\n",
    "    cov = np.round(cov, 2)\n",
    "    \n",
    "\n",
    "    # compute the eigenvalues and eigenvectors\n",
    "    eig_val, eig_vec = np.linalg.eig(cov)\n",
    "    # sort the eigenvalues and eigenvectors\n",
    "    idx = np.arange(0, len(eig_val), 1)\n",
    "    idx = ([x for _, x in sorted(zip(eig_val, idx))])[::-1]\n",
    "    eig_val = eig_val\n",
    "    eig_vec = eig_vec[:, idx]\n",
    "    print(\"eig_vec\",eig_vec.shape)\n",
    "    # compute the explained variance\n",
    "    exp_var = eig_val/np.sum(eig_val)\n",
    "    # compute the cumulative explained variance\n",
    "    cum_exp_var = np.cumsum(exp_var)\n",
    "    #get the index of the first value above 99%\n",
    "    index = np.argmax(cum_exp_var > 0.99)\n",
    "    #get the number of components\n",
    "    n_components = index + 1\n",
    "    #get the components\n",
    "    components = eig_vec[:, :n_components]\n",
    "    #transform the data\n",
    "    transformed_data = np.dot(mean_data, components)\n",
    "    return transformed_data\n"
   ]
  },
  {
   "cell_type": "code",
   "execution_count": 40,
   "metadata": {},
   "outputs": [
    {
     "name": "stdout",
     "output_type": "stream",
     "text": [
      "[[ 0.          0.          0.76296172 -0.43468716  0.03911607]\n",
      " [ 0.          0.         -1.17385332 -0.43468716 -0.91810303]\n",
      " [ 0.          0.          0.76296172 -0.43468716  0.99633516]\n",
      " [-1.2393456   0.          0.76296172  2.46554605 -0.91810303]\n",
      " [ 0.          0.          0.76296172  1.49880165  5.78243063]]\n",
      "eig_vec (200, 200)\n",
      "(328135, 153)\n",
      "[[-1.98171095e+00 -1.29503340e+00  5.61669076e-01 ...  5.78109230e-02\n",
      "   2.77736822e-01 -5.12246900e-02]\n",
      " [ 1.13338415e+01  1.77676370e+00  1.18043819e+00 ... -2.11517002e-01\n",
      "   2.44608145e-01  7.91490673e-01]\n",
      " [-1.28527453e+00  1.77126194e+00  9.57880452e-01 ...  1.86845868e-02\n",
      "  -9.42054004e-03  4.08204365e-03]\n",
      " ...\n",
      " [-1.29516669e+00  1.83828225e+00 -6.05018382e-01 ...  5.40081924e-02\n",
      "  -3.30124961e-02 -2.24808398e-02]\n",
      " [-1.04260517e+00 -7.85211190e-01 -3.00544533e-01 ... -1.19969187e-01\n",
      "   7.30660500e-02  5.81197302e-02]\n",
      " [ 2.11055003e+00 -3.04329763e-01  1.54573220e+00 ... -1.72350496e-01\n",
      "   9.19695055e-02  7.66789124e-03]]\n"
     ]
    }
   ],
   "source": [
    "#preprocess the data\n",
    "#preprocessed_data = preprocessing_dataset_naive(data)\n",
    "# transform the data\n",
    "transformed_data = pca(data)\n",
    "print(transformed_data.shape)\n",
    "print(transformed_data)\n"
   ]
  }
 ],
 "metadata": {
  "kernelspec": {
   "display_name": "Python 3",
   "language": "python",
   "name": "python3"
  },
  "language_info": {
   "codemirror_mode": {
    "name": "ipython",
    "version": 3
   },
   "file_extension": ".py",
   "mimetype": "text/x-python",
   "name": "python",
   "nbconvert_exporter": "python",
   "pygments_lexer": "ipython3",
   "version": "3.9.13"
  },
  "orig_nbformat": 4
 },
 "nbformat": 4,
 "nbformat_minor": 2
}
